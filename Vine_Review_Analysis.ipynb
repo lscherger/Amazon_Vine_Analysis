{
  "nbformat": 4,
  "nbformat_minor": 0,
  "metadata": {
    "colab": {
      "name": "Vine_Review_Analysis.ipynb",
      "provenance": []
    },
    "kernelspec": {
      "name": "python3",
      "display_name": "Python 3"
    },
    "language_info": {
      "name": "python"
    }
  },
  "cells": [
    {
      "cell_type": "code",
      "metadata": {
        "colab": {
          "base_uri": "https://localhost:8080/"
        },
        "id": "zSzZuC983Y4y",
        "outputId": "18f74c86-3438-4a07-df12-3ee746aaeecc"
      },
      "source": [
        "import os\n",
        "# Find the latest version of spark 3.0 from http://www.apache.org/dist/spark/ and enter as the spark version\n",
        "# For example:\n",
        "# spark_version = 'spark-3.0.3'\n",
        "spark_version = 'spark-3.1.2'\n",
        "os.environ['SPARK_VERSION']=spark_version\n",
        "\n",
        "# Install Spark and Java\n",
        "!apt-get update\n",
        "!apt-get install openjdk-11-jdk-headless -qq > /dev/null\n",
        "!wget -q http://www.apache.org/dist/spark/$SPARK_VERSION/$SPARK_VERSION-bin-hadoop2.7.tgz\n",
        "!tar xf $SPARK_VERSION-bin-hadoop2.7.tgz\n",
        "!pip install -q findspark\n",
        "\n",
        "# Set Environment Variables\n",
        "import os\n",
        "os.environ[\"JAVA_HOME\"] = \"/usr/lib/jvm/java-11-openjdk-amd64\"\n",
        "os.environ[\"SPARK_HOME\"] = f\"/content/{spark_version}-bin-hadoop2.7\"\n",
        "\n",
        "# Start a SparkSession\n",
        "import findspark\n",
        "findspark.init()"
      ],
      "execution_count": null,
      "outputs": [
        {
          "output_type": "stream",
          "name": "stdout",
          "text": [
            "\r0% [Working]\r            \rGet:1 http://security.ubuntu.com/ubuntu bionic-security InRelease [88.7 kB]\n",
            "\r0% [Connecting to archive.ubuntu.com] [1 InRelease 14.2 kB/88.7 kB 16%] [Connec\r                                                                               \rGet:2 https://cloud.r-project.org/bin/linux/ubuntu bionic-cran40/ InRelease [3,626 B]\n",
            "\r0% [Connecting to archive.ubuntu.com] [1 InRelease 83.7 kB/88.7 kB 94%] [2 InRe\r0% [Connecting to archive.ubuntu.com] [1 InRelease 88.7 kB/88.7 kB 100%] [Conne\r0% [Connecting to archive.ubuntu.com (91.189.88.142)] [Connecting to ppa.launch\r0% [2 InRelease gpgv 3,626 B] [Connecting to archive.ubuntu.com (91.189.88.142)\r                                                                               \rGet:3 http://ppa.launchpad.net/c2d4u.team/c2d4u4.0+/ubuntu bionic InRelease [15.9 kB]\n",
            "\r0% [2 InRelease gpgv 3,626 B] [Waiting for headers] [3 InRelease 2,572 B/15.9 k\r                                                                               \rIgn:4 https://developer.download.nvidia.com/compute/cuda/repos/ubuntu1804/x86_64  InRelease\n",
            "\r0% [2 InRelease gpgv 3,626 B] [Waiting for headers] [3 InRelease 2,572 B/15.9 k\r                                                                               \rHit:5 http://archive.ubuntu.com/ubuntu bionic InRelease\n",
            "Ign:6 https://developer.download.nvidia.com/compute/machine-learning/repos/ubuntu1804/x86_64  InRelease\n",
            "Hit:7 https://developer.download.nvidia.com/compute/cuda/repos/ubuntu1804/x86_64  Release\n",
            "Hit:8 https://developer.download.nvidia.com/compute/machine-learning/repos/ubuntu1804/x86_64  Release\n",
            "Get:9 http://archive.ubuntu.com/ubuntu bionic-updates InRelease [88.7 kB]\n",
            "Hit:10 http://ppa.launchpad.net/cran/libgit2/ubuntu bionic InRelease\n",
            "Get:11 http://ppa.launchpad.net/deadsnakes/ppa/ubuntu bionic InRelease [15.9 kB]\n",
            "Get:12 http://archive.ubuntu.com/ubuntu bionic-backports InRelease [74.6 kB]\n",
            "Hit:13 http://ppa.launchpad.net/graphics-drivers/ppa/ubuntu bionic InRelease\n",
            "Get:14 http://security.ubuntu.com/ubuntu bionic-security/main amd64 Packages [2,365 kB]\n",
            "Get:15 http://security.ubuntu.com/ubuntu bionic-security/universe amd64 Packages [1,431 kB]\n",
            "Get:16 http://ppa.launchpad.net/c2d4u.team/c2d4u4.0+/ubuntu bionic/main Sources [1,802 kB]\n",
            "Get:19 http://ppa.launchpad.net/c2d4u.team/c2d4u4.0+/ubuntu bionic/main amd64 Packages [922 kB]\n",
            "Get:20 http://archive.ubuntu.com/ubuntu bionic-updates/main amd64 Packages [2,801 kB]\n",
            "Get:21 http://ppa.launchpad.net/deadsnakes/ppa/ubuntu bionic/main amd64 Packages [40.8 kB]\n",
            "Get:22 http://archive.ubuntu.com/ubuntu bionic-updates/universe amd64 Packages [2,210 kB]\n",
            "Fetched 11.9 MB in 4s (2,969 kB/s)\n",
            "Reading package lists... Done\n"
          ]
        }
      ]
    },
    {
      "cell_type": "code",
      "metadata": {
        "colab": {
          "base_uri": "https://localhost:8080/"
        },
        "id": "ShtQehh43tiU",
        "outputId": "438a1362-733f-4525-d1dd-c22662900077"
      },
      "source": [
        "# Download the Postgres driver that will allow Spark to interact with Postgres.\n",
        "!wget https://jdbc.postgresql.org/download/postgresql-42.2.16.jar"
      ],
      "execution_count": null,
      "outputs": [
        {
          "output_type": "stream",
          "name": "stdout",
          "text": [
            "--2021-10-11 01:03:17--  https://jdbc.postgresql.org/download/postgresql-42.2.16.jar\n",
            "Resolving jdbc.postgresql.org (jdbc.postgresql.org)... 72.32.157.228, 2001:4800:3e1:1::228\n",
            "Connecting to jdbc.postgresql.org (jdbc.postgresql.org)|72.32.157.228|:443... connected.\n",
            "HTTP request sent, awaiting response... 200 OK\n",
            "Length: 1002883 (979K) [application/java-archive]\n",
            "Saving to: ‘postgresql-42.2.16.jar’\n",
            "\n",
            "postgresql-42.2.16. 100%[===================>] 979.38K  5.63MB/s    in 0.2s    \n",
            "\n",
            "2021-10-11 01:03:17 (5.63 MB/s) - ‘postgresql-42.2.16.jar’ saved [1002883/1002883]\n",
            "\n"
          ]
        }
      ]
    },
    {
      "cell_type": "code",
      "metadata": {
        "id": "YbYPGr8p3yOe"
      },
      "source": [
        "from pyspark.sql import SparkSession\n",
        "spark = SparkSession.builder.appName(\"M16-Amazon-Challenge\").config(\"spark.driver.extraClassPath\",\"/content/postgresql-42.2.16.jar\").getOrCreate()"
      ],
      "execution_count": null,
      "outputs": []
    },
    {
      "cell_type": "code",
      "metadata": {
        "colab": {
          "base_uri": "https://localhost:8080/"
        },
        "id": "K-4are2_3y2D",
        "outputId": "75d3fd8f-ff10-4b59-c498-0e488a95d4bf"
      },
      "source": [
        "from pyspark import SparkFiles\n",
        "url = \"https://lscherger-bucket.s3.amazonaws.com/amazon_reviews_us_Health_Personal_Care_v1_00.tsv\"\n",
        "spark.sparkContext.addFile(url)\n",
        "df = spark.read.option(\"encoding\", \"UTF-8\").csv(SparkFiles.get(\"amazon_reviews_us_Health_Personal_Care_v1_00.tsv\"), sep=\"\\t\", header=True, inferSchema=True)\n",
        "df.show()"
      ],
      "execution_count": null,
      "outputs": [
        {
          "output_type": "stream",
          "name": "stdout",
          "text": [
            "+-----------+-----------+--------------+----------+--------------+--------------------+--------------------+-----------+-------------+-----------+----+-----------------+--------------------+--------------------+-----------+\n",
            "|marketplace|customer_id|     review_id|product_id|product_parent|       product_title|    product_category|star_rating|helpful_votes|total_votes|vine|verified_purchase|     review_headline|         review_body|review_date|\n",
            "+-----------+-----------+--------------+----------+--------------+--------------------+--------------------+-----------+-------------+-----------+----+-----------------+--------------------+--------------------+-----------+\n",
            "|         US|     650634| R3EQSTM9PWRAL|B0091LBZSU|     578484426|Demograss Capsule...|Health & Personal...|          3|            0|          0|   N|                Y|         Three Stars|Only came with 30...| 2015-08-31|\n",
            "|         US|   19827510| RBWPRK17XKIXD|B00PWW3LQ6|     456433146|Viva Labs #1 Prem...|Health & Personal...|          5|            0|          0|   N|                Y|A good portable s...|Really yummy and ...| 2015-08-31|\n",
            "|         US|    1520474| RRSLOAF273XFC|B00DKEWA92|     460764511|     Whip-it Cleaner|Health & Personal...|          5|            1|          2|   N|                Y|       You need this|You cannot go wro...| 2015-08-31|\n",
            "|         US|   23905905|R3S8W9Q6SWIT8O|B0015R3A7M|     135102038|Optimum Nutrition...|Health & Personal...|          4|            0|          0|   N|                Y|this is a good vi...|This is a good da...| 2015-08-31|\n",
            "|         US|   28215779|R3QQ6NSLRVBFJC|B006B8U8BG|     200666829|Wet-Stop3 Bedwett...|Health & Personal...|          4|            0|          0|   N|                Y|progress is defin...|We have been usin...| 2015-08-31|\n",
            "|         US|   23260912|R2XYDBMHUVJCSX|B00PFZFD8Y|     344168617|NatraCure Plantar...|Health & Personal...|          2|            0|          1|   N|                Y|           Two Stars|I wear it a few t...| 2015-08-31|\n",
            "|         US|    7965616|R1L94ESVC657A9|B0034792JG|     291831570|Glade Sense & Spr...|Health & Personal...|          5|            0|          0|   N|                Y|          Five Stars|Love this product...| 2015-08-31|\n",
            "|         US|    3443178|R3DI4B8LDWFQ3K|B000052XIA|     493678550|Vagisil Anti-Itch...|Health & Personal...|          1|            3|          4|   N|                Y|It still is itchi...|It still is itchi...| 2015-08-31|\n",
            "|         US|   20838781|R1G7VV4HCXUQQL|B004GCUK8A|       3902598|Glade Automatic S...|Health & Personal...|          5|            0|          0|   N|                Y|          Five Stars|               Good!| 2015-08-31|\n",
            "|         US|   15267517|R3TTNYN1TAMUSU|B00K7W1QAO|     633971374|Kirkland Signatur...|Health & Personal...|          5|            0|          0|   N|                Y|      Will buy again|These bags are ma...| 2015-08-31|\n",
            "|         US|   30105089|R3AMX2D9HMWV6Z|B0034KYA36|     854858899|Zyrtec Prescripti...|Health & Personal...|          5|            0|          0|   N|                Y|         Good price!|Delivered product...| 2015-08-31|\n",
            "|         US|    1622207|R3PO3K321GY8HI|B00C7UZTT8|     264608272|Pure Garcinia Cam...|Health & Personal...|          1|            0|          0|   N|                Y|       Doesn't work.|So far I've felt ...| 2015-08-31|\n",
            "|         US|   29856075| RVQ0UNYX6IEVK|B005F9XFN0|     638667060|Now  Better Stevi...|Health & Personal...|          1|            0|          1|   N|                Y|           not quite|Not nearly as goo...| 2015-08-31|\n",
            "|         US|   52319463|R25E9NIGO2XQ3D|B00Q8YSPTU|     130354267|Now Foods Stevia ...|Health & Personal...|          5|            0|          0|   N|                Y|Reasonably priced...|Reasonably priced...| 2015-08-31|\n",
            "|         US|   16857013|R3GIEXIIIR2G9Y|B00N34HBVG|     700530604|Compression Thigh...|Health & Personal...|          1|            0|          0|   N|                Y|DO NOT BUY!!!! Ve...|They are sooooooo...| 2015-08-31|\n",
            "|         US|   12269680|R264BH3U417NXF|B002UN2UKS|     731161248|Brownmed SEAL-TIG...|Health & Personal...|          5|            0|          0|   N|                Y|Worked Great!! Ve...|Worked Great!!  V...| 2015-08-31|\n",
            "|         US|   29116955|R2C6S0XJIMP0Z2|B003265KYK|     719831457|Botanic Choice Gl...|Health & Personal...|          5|            0|          0|   N|                Y|          Five Stars|Great price, on t...| 2015-08-31|\n",
            "|         US|   14533949|R2LRJYGC2YYR2F|B00939J5T6|     377517622|Shibari SHIB-WHT ...|Health & Personal...|          2|            0|          0|   N|                Y|Cant handle long ...|Broke down after ...| 2015-08-31|\n",
            "|         US|   11274313|R3SVW9ZP1CZPW7|B00LJOQKRI|     376583016|Eyekepper 5-pack ...|Health & Personal...|          1|            0|          1|   N|                Y|            One Star|I think the presc...| 2015-08-31|\n",
            "|         US|   14861684|R1GLA6RQUF4Q79|B002TG3QPO|     813956658|Isopure Zero Carb...|Health & Personal...|          4|            0|          0|   N|                Y|          Four Stars|            Loved it| 2015-08-31|\n",
            "+-----------+-----------+--------------+----------+--------------+--------------------+--------------------+-----------+-------------+-----------+----+-----------------+--------------------+--------------------+-----------+\n",
            "only showing top 20 rows\n",
            "\n"
          ]
        }
      ]
    },
    {
      "cell_type": "code",
      "metadata": {
        "colab": {
          "base_uri": "https://localhost:8080/"
        },
        "id": "GdVjQpFq31qO",
        "outputId": "6805e78a-7425-41ec-92cc-60245aed09cf"
      },
      "source": [
        "# Create the vine_table. DataFrame\n",
        "vine_table_df = df.select(['review_id', 'star_rating', 'helpful_votes','total_votes','vine','verified_purchase'])\n",
        "vine_table_df.show()"
      ],
      "execution_count": null,
      "outputs": [
        {
          "output_type": "stream",
          "name": "stdout",
          "text": [
            "+--------------+-----------+-------------+-----------+----+-----------------+\n",
            "|     review_id|star_rating|helpful_votes|total_votes|vine|verified_purchase|\n",
            "+--------------+-----------+-------------+-----------+----+-----------------+\n",
            "| R3EQSTM9PWRAL|          3|            0|          0|   N|                Y|\n",
            "| RBWPRK17XKIXD|          5|            0|          0|   N|                Y|\n",
            "| RRSLOAF273XFC|          5|            1|          2|   N|                Y|\n",
            "|R3S8W9Q6SWIT8O|          4|            0|          0|   N|                Y|\n",
            "|R3QQ6NSLRVBFJC|          4|            0|          0|   N|                Y|\n",
            "|R2XYDBMHUVJCSX|          2|            0|          1|   N|                Y|\n",
            "|R1L94ESVC657A9|          5|            0|          0|   N|                Y|\n",
            "|R3DI4B8LDWFQ3K|          1|            3|          4|   N|                Y|\n",
            "|R1G7VV4HCXUQQL|          5|            0|          0|   N|                Y|\n",
            "|R3TTNYN1TAMUSU|          5|            0|          0|   N|                Y|\n",
            "|R3AMX2D9HMWV6Z|          5|            0|          0|   N|                Y|\n",
            "|R3PO3K321GY8HI|          1|            0|          0|   N|                Y|\n",
            "| RVQ0UNYX6IEVK|          1|            0|          1|   N|                Y|\n",
            "|R25E9NIGO2XQ3D|          5|            0|          0|   N|                Y|\n",
            "|R3GIEXIIIR2G9Y|          1|            0|          0|   N|                Y|\n",
            "|R264BH3U417NXF|          5|            0|          0|   N|                Y|\n",
            "|R2C6S0XJIMP0Z2|          5|            0|          0|   N|                Y|\n",
            "|R2LRJYGC2YYR2F|          2|            0|          0|   N|                Y|\n",
            "|R3SVW9ZP1CZPW7|          1|            0|          1|   N|                Y|\n",
            "|R1GLA6RQUF4Q79|          4|            0|          0|   N|                Y|\n",
            "+--------------+-----------+-------------+-----------+----+-----------------+\n",
            "only showing top 20 rows\n",
            "\n"
          ]
        }
      ]
    },
    {
      "cell_type": "code",
      "metadata": {
        "colab": {
          "base_uri": "https://localhost:8080/"
        },
        "id": "UJz9wkXi4qQl",
        "outputId": "37af5117-f732-43d7-e7d0-87788605c233"
      },
      "source": [
        "high_votes_df = vine_table_df.filter(\"total_votes>=20\")\n",
        "high_votes_df.show()"
      ],
      "execution_count": null,
      "outputs": [
        {
          "output_type": "stream",
          "name": "stdout",
          "text": [
            "+--------------+-----------+-------------+-----------+----+-----------------+\n",
            "|     review_id|star_rating|helpful_votes|total_votes|vine|verified_purchase|\n",
            "+--------------+-----------+-------------+-----------+----+-----------------+\n",
            "|R2984F9VD9WDJB|          1|           37|         46|   N|                Y|\n",
            "|R218TGWCIAZYNY|          5|          191|        198|   N|                Y|\n",
            "| RGC2TLSBHLPZA|          5|           49|         50|   N|                Y|\n",
            "|R2YYVOW2RYGRM8|          5|           27|         28|   N|                Y|\n",
            "|R2X4WF89XICSB2|          1|           21|         21|   N|                Y|\n",
            "|R1M1KJ4SQE4INF|          5|           20|         21|   N|                N|\n",
            "|R1M8EEGH2TVS0Q|          1|            6|         29|   N|                Y|\n",
            "| RK8MUEWEUGV6V|          4|          105|        113|   N|                N|\n",
            "|R3JF2SBRHZITRZ|          5|           24|         26|   N|                N|\n",
            "| RLJN73T8WUYIR|          5|          124|        128|   N|                Y|\n",
            "| RYA9ESIATW4EC|          1|           23|         27|   N|                N|\n",
            "|R15RF9IWXWX3IH|          5|           25|         31|   N|                N|\n",
            "|R1GNMWLUMCOC6V|          5|           21|         23|   N|                N|\n",
            "|R3F5N905ZVOXES|          1|            3|         35|   N|                N|\n",
            "|R2SLKTWAJ7BR9K|          5|           33|         36|   N|                Y|\n",
            "|R1NKKJ720BC2VM|          5|           25|         28|   N|                Y|\n",
            "|R3ATNR4AESV090|          4|           38|         40|   N|                Y|\n",
            "|R36XRSNV1M0ADW|          5|           82|         95|   N|                Y|\n",
            "|R203G800OB64XF|          3|           57|         72|   N|                N|\n",
            "|R31LBT37BJZE6B|          1|           14|         20|   N|                Y|\n",
            "+--------------+-----------+-------------+-----------+----+-----------------+\n",
            "only showing top 20 rows\n",
            "\n"
          ]
        }
      ]
    },
    {
      "cell_type": "code",
      "metadata": {
        "colab": {
          "base_uri": "https://localhost:8080/"
        },
        "id": "g0bCvqoh5OUF",
        "outputId": "963af028-76b2-4e54-ecdf-2de4df5e36d7"
      },
      "source": [
        "helpful_percent_df = vine_table_df.filter(\"(helpful_votes/total_votes)>=0.5\")\n",
        "helpful_percent_df.show()"
      ],
      "execution_count": null,
      "outputs": [
        {
          "output_type": "stream",
          "name": "stdout",
          "text": [
            "+--------------+-----------+-------------+-----------+----+-----------------+\n",
            "|     review_id|star_rating|helpful_votes|total_votes|vine|verified_purchase|\n",
            "+--------------+-----------+-------------+-----------+----+-----------------+\n",
            "| RRSLOAF273XFC|          5|            1|          2|   N|                Y|\n",
            "|R3DI4B8LDWFQ3K|          1|            3|          4|   N|                Y|\n",
            "|R37R181DDM2UUL|          4|            2|          2|   N|                Y|\n",
            "|R2H4PFXM303UPQ|          4|            3|          3|   N|                Y|\n",
            "| RZ9HASH6YNE4J|          5|            1|          1|   N|                Y|\n",
            "| RR3HYBU0LOG05|          5|            2|          3|   N|                Y|\n",
            "| R45LXAPWF1BYU|          5|            9|         10|   N|                Y|\n",
            "| RMHV44UUQNFKD|          5|            2|          3|   N|                Y|\n",
            "|R2D1QHB72QYC2W|          5|            2|          2|   N|                Y|\n",
            "| RLBGTWG2E2JQ1|          5|           13|         16|   N|                Y|\n",
            "|R1MKO6NLYVTR7B|          5|           12|         12|   N|                Y|\n",
            "|R3M6DNKH40KE70|          5|            2|          3|   N|                N|\n",
            "|R2TDB1AN00LB5B|          4|            3|          4|   N|                Y|\n",
            "|R222C4BBYUF2TX|          5|            5|          7|   N|                Y|\n",
            "|R2984F9VD9WDJB|          1|           37|         46|   N|                Y|\n",
            "|R282YEFV0ZPHD7|          5|            3|          4|   N|                Y|\n",
            "| RC61CN07VXB1I|          2|            1|          1|   N|                N|\n",
            "|R1NLQ0DAMM5EP1|          5|            2|          2|   N|                N|\n",
            "|R3QZOBE82JWNT0|          5|            4|          5|   N|                Y|\n",
            "|  RV7CQHYHFCFC|          5|            1|          1|   N|                Y|\n",
            "+--------------+-----------+-------------+-----------+----+-----------------+\n",
            "only showing top 20 rows\n",
            "\n"
          ]
        }
      ]
    },
    {
      "cell_type": "code",
      "metadata": {
        "colab": {
          "base_uri": "https://localhost:8080/"
        },
        "id": "78DXVcyl7sMb",
        "outputId": "3d1e96c0-9919-4954-9002-75d928a337d8"
      },
      "source": [
        "vine_review_df = vine_table_df.filter(\"vine=='Y'\")\n",
        "vine_review_df.show()"
      ],
      "execution_count": null,
      "outputs": [
        {
          "output_type": "stream",
          "name": "stdout",
          "text": [
            "+--------------+-----------+-------------+-----------+----+-----------------+\n",
            "|     review_id|star_rating|helpful_votes|total_votes|vine|verified_purchase|\n",
            "+--------------+-----------+-------------+-----------+----+-----------------+\n",
            "|R1BIFVKMZQPGDC|          5|            8|          9|   Y|                N|\n",
            "|R35E49JZWFJDBK|          5|            1|          1|   Y|                N|\n",
            "|R2PIHINVNVGDL9|          4|            0|          0|   Y|                N|\n",
            "|R2KQ11RRU9Z5N4|          5|            0|          0|   Y|                N|\n",
            "|R2H9CLVRH00TAJ|          5|            2|          2|   Y|                N|\n",
            "|R3PCFK0001XURF|          5|            0|          0|   Y|                N|\n",
            "|R20DLO2PLAX2WM|          5|            1|          1|   Y|                N|\n",
            "|R34TE2UEOXH0LB|          4|            0|          1|   Y|                N|\n",
            "|R2ERMN4JIX94R6|          2|            0|          0|   Y|                N|\n",
            "|R2NBCQETHBBFL6|          3|            1|          2|   Y|                N|\n",
            "| R2D6J5JSP4Q8F|          5|            1|          2|   Y|                N|\n",
            "|R3REH0BKVQ5QW4|          5|            2|          2|   Y|                N|\n",
            "|R1ZJBECS4RPG7D|          5|            0|          0|   Y|                N|\n",
            "|  RYYPXUHEHY2L|          4|            7|          7|   Y|                N|\n",
            "|R1AKH68RJIAU8N|          3|            0|          0|   Y|                N|\n",
            "|R1CSNCBEJPRIOO|          3|            1|          1|   Y|                N|\n",
            "|R38TZYIPN4SXYS|          3|            4|          5|   Y|                N|\n",
            "|R3IUV8U2MLD58L|          4|            1|          2|   Y|                N|\n",
            "|R11HCFXYEQPB2X|          4|            1|          1|   Y|                N|\n",
            "|R2HCL1HX5JFV4J|          5|            1|          1|   Y|                N|\n",
            "+--------------+-----------+-------------+-----------+----+-----------------+\n",
            "only showing top 20 rows\n",
            "\n"
          ]
        }
      ]
    },
    {
      "cell_type": "code",
      "metadata": {
        "colab": {
          "base_uri": "https://localhost:8080/"
        },
        "id": "WzoNMlLQ7sWV",
        "outputId": "63eabc4d-bea0-4356-8a05-b62978291d4b"
      },
      "source": [
        "no_vine_review_df = vine_table_df.filter(\"vine=='N'\")\n",
        "no_vine_review_df.show()"
      ],
      "execution_count": null,
      "outputs": [
        {
          "output_type": "stream",
          "name": "stdout",
          "text": [
            "+--------------+-----------+-------------+-----------+----+-----------------+\n",
            "|     review_id|star_rating|helpful_votes|total_votes|vine|verified_purchase|\n",
            "+--------------+-----------+-------------+-----------+----+-----------------+\n",
            "| R3EQSTM9PWRAL|          3|            0|          0|   N|                Y|\n",
            "| RBWPRK17XKIXD|          5|            0|          0|   N|                Y|\n",
            "| RRSLOAF273XFC|          5|            1|          2|   N|                Y|\n",
            "|R3S8W9Q6SWIT8O|          4|            0|          0|   N|                Y|\n",
            "|R3QQ6NSLRVBFJC|          4|            0|          0|   N|                Y|\n",
            "|R2XYDBMHUVJCSX|          2|            0|          1|   N|                Y|\n",
            "|R1L94ESVC657A9|          5|            0|          0|   N|                Y|\n",
            "|R3DI4B8LDWFQ3K|          1|            3|          4|   N|                Y|\n",
            "|R1G7VV4HCXUQQL|          5|            0|          0|   N|                Y|\n",
            "|R3TTNYN1TAMUSU|          5|            0|          0|   N|                Y|\n",
            "|R3AMX2D9HMWV6Z|          5|            0|          0|   N|                Y|\n",
            "|R3PO3K321GY8HI|          1|            0|          0|   N|                Y|\n",
            "| RVQ0UNYX6IEVK|          1|            0|          1|   N|                Y|\n",
            "|R25E9NIGO2XQ3D|          5|            0|          0|   N|                Y|\n",
            "|R3GIEXIIIR2G9Y|          1|            0|          0|   N|                Y|\n",
            "|R264BH3U417NXF|          5|            0|          0|   N|                Y|\n",
            "|R2C6S0XJIMP0Z2|          5|            0|          0|   N|                Y|\n",
            "|R2LRJYGC2YYR2F|          2|            0|          0|   N|                Y|\n",
            "|R3SVW9ZP1CZPW7|          1|            0|          1|   N|                Y|\n",
            "|R1GLA6RQUF4Q79|          4|            0|          0|   N|                Y|\n",
            "+--------------+-----------+-------------+-----------+----+-----------------+\n",
            "only showing top 20 rows\n",
            "\n"
          ]
        }
      ]
    },
    {
      "cell_type": "code",
      "metadata": {
        "colab": {
          "base_uri": "https://localhost:8080/"
        },
        "id": "LOB0jjuO8Ppq",
        "outputId": "b9cea156-f91b-4e99-c3c6-749519bdcc55"
      },
      "source": [
        "clean_vines_df=vine_table_df.drop_duplicates([\"review_id\"])\n",
        "clean_vines_df.show()"
      ],
      "execution_count": 49,
      "outputs": [
        {
          "output_type": "stream",
          "name": "stdout",
          "text": [
            "+--------------+-----------+-------------+-----------+----+-----------------+\n",
            "|     review_id|star_rating|helpful_votes|total_votes|vine|verified_purchase|\n",
            "+--------------+-----------+-------------+-----------+----+-----------------+\n",
            "|R1006MZQZESJLU|          5|            0|          0|   N|                Y|\n",
            "| R100KFB0HIL17|          3|            1|          2|   N|                Y|\n",
            "|R100VCRMA6O31M|          2|            0|          0|   N|                Y|\n",
            "|R10123RVTQX469|          1|           10|         12|   N|                Y|\n",
            "|R101AA8NMPCECG|          5|            3|          5|   N|                Y|\n",
            "|R101H9BZ4XSO4P|          4|            4|          4|   N|                Y|\n",
            "|R101OASBXZOKB5|          4|            0|          0|   N|                Y|\n",
            "|R101RBWHDT9BUD|          5|            0|          0|   N|                Y|\n",
            "|R101WUH16PCM6G|          5|            0|          0|   N|                Y|\n",
            "|R1020VRZ9DVRFC|          4|            3|          3|   N|                N|\n",
            "|R1026838D7ZU2Y|          5|            0|          0|   N|                Y|\n",
            "|R102H8AD42JQ99|          1|            0|          1|   N|                N|\n",
            "|R102L2V3M84I9V|          5|            2|          2|   N|                N|\n",
            "|R102XR2RN9S6KR|          2|            4|          4|   N|                Y|\n",
            "|R1038SGK0MJ4XY|          5|            0|          0|   N|                Y|\n",
            "|R103T246FBUV6F|          5|            1|          1|   N|                Y|\n",
            "|R103TLLKLVFEDF|          5|            0|          0|   N|                N|\n",
            "|R1040DS246Z070|          4|            1|          1|   N|                Y|\n",
            "|R1048VH5KNJSBD|          4|            0|          0|   N|                Y|\n",
            "|R104A675ALY8C9|          5|            0|          0|   N|                Y|\n",
            "+--------------+-----------+-------------+-----------+----+-----------------+\n",
            "only showing top 20 rows\n",
            "\n"
          ]
        }
      ]
    },
    {
      "cell_type": "code",
      "metadata": {
        "colab": {
          "base_uri": "https://localhost:8080/"
        },
        "id": "9UUhMQNt-y51",
        "outputId": "63d38a16-f830-49de-d27f-9fd601ac9193"
      },
      "source": [
        "# Calculate total number of reviews\n",
        "clean_vines_df.count()"
      ],
      "execution_count": 52,
      "outputs": [
        {
          "output_type": "execute_result",
          "data": {
            "text/plain": [
              "5331449"
            ]
          },
          "metadata": {},
          "execution_count": 52
        }
      ]
    },
    {
      "cell_type": "code",
      "metadata": {
        "colab": {
          "base_uri": "https://localhost:8080/"
        },
        "id": "jHdDMmfV_bD6",
        "outputId": "40b5269b-80fe-453d-cc3a-3523182142c9"
      },
      "source": [
        "# Calculate total number of 5 star reviews\n",
        "clean_vines_df.filter(\"star_rating=5\").count()"
      ],
      "execution_count": 53,
      "outputs": [
        {
          "output_type": "execute_result",
          "data": {
            "text/plain": [
              "3358086"
            ]
          },
          "metadata": {},
          "execution_count": 53
        }
      ]
    },
    {
      "cell_type": "code",
      "metadata": {
        "colab": {
          "base_uri": "https://localhost:8080/"
        },
        "id": "q8SIOerG_pm0",
        "outputId": "cef6a5e0-b7f1-4b47-ec84-b5006aaf5bd0"
      },
      "source": [
        "# Calculate percentage of 5 star reviews for vine reviews\n",
        "vine_five_star = vine_review_df.filter(\"star_rating=5\").count()\n",
        "vine_total = vine_review_df.count()\n",
        "vine_five_star_percentage = ((vine_five_star)/(vine_total))*100\n",
        "vine_five_star_percentage"
      ],
      "execution_count": 60,
      "outputs": [
        {
          "output_type": "execute_result",
          "data": {
            "text/plain": [
              "40.98857178542434"
            ]
          },
          "metadata": {},
          "execution_count": 60
        }
      ]
    },
    {
      "cell_type": "code",
      "metadata": {
        "colab": {
          "base_uri": "https://localhost:8080/"
        },
        "id": "d5bAFjLyBPso",
        "outputId": "3655acaf-88e6-4ca0-ba1d-6d130d8b5756"
      },
      "source": [
        "# Calculate percentage of 5 star reviews for non - vine reviews\n",
        "no_vine_five_star = no_vine_review_df.filter(\"star_rating=5\").count()\n",
        "no_vine_total = no_vine_review_df.count()\n",
        "no_vine_five_star_percentage = ((no_vine_five_star)/(no_vine_total))*100\n",
        "no_vine_five_star_percentage"
      ],
      "execution_count": 62,
      "outputs": [
        {
          "output_type": "execute_result",
          "data": {
            "text/plain": [
              "63.12209283345055"
            ]
          },
          "metadata": {},
          "execution_count": 62
        }
      ]
    }
  ]
}